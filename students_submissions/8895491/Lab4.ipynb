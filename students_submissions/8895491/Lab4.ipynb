{
 "cells": [
  {
   "cell_type": "code",
   "execution_count": 1,
   "metadata": {},
   "outputs": [],
   "source": [
    "from sklearn.datasets import load_diabetes\n",
    "from sklearn.model_selection import train_test_split\n",
    "\n",
    "# Load the Diabetes dataset with scaled features as a DataFrame\n",
    "diabetes = load_diabetes(as_frame=True, scaled=True)\n",
    "X, y = diabetes.data, diabetes.target\n",
    "\n",
    "# Split the data into training, validation, and test sets\n",
    "X_train, X_temp, y_train, y_temp = train_test_split(X, y, test_size=0.4, random_state=42)\n",
    "X_valid, X_test, y_valid, y_test = train_test_split(X_temp, y_temp, test_size=0.5, random_state=42)\n"
   ]
  },
  {
   "cell_type": "code",
   "execution_count": 2,
   "metadata": {},
   "outputs": [
    {
     "data": {
      "text/html": [
       "<style>#sk-container-id-1 {color: black;background-color: white;}#sk-container-id-1 pre{padding: 0;}#sk-container-id-1 div.sk-toggleable {background-color: white;}#sk-container-id-1 label.sk-toggleable__label {cursor: pointer;display: block;width: 100%;margin-bottom: 0;padding: 0.3em;box-sizing: border-box;text-align: center;}#sk-container-id-1 label.sk-toggleable__label-arrow:before {content: \"▸\";float: left;margin-right: 0.25em;color: #696969;}#sk-container-id-1 label.sk-toggleable__label-arrow:hover:before {color: black;}#sk-container-id-1 div.sk-estimator:hover label.sk-toggleable__label-arrow:before {color: black;}#sk-container-id-1 div.sk-toggleable__content {max-height: 0;max-width: 0;overflow: hidden;text-align: left;background-color: #f0f8ff;}#sk-container-id-1 div.sk-toggleable__content pre {margin: 0.2em;color: black;border-radius: 0.25em;background-color: #f0f8ff;}#sk-container-id-1 input.sk-toggleable__control:checked~div.sk-toggleable__content {max-height: 200px;max-width: 100%;overflow: auto;}#sk-container-id-1 input.sk-toggleable__control:checked~label.sk-toggleable__label-arrow:before {content: \"▾\";}#sk-container-id-1 div.sk-estimator input.sk-toggleable__control:checked~label.sk-toggleable__label {background-color: #d4ebff;}#sk-container-id-1 div.sk-label input.sk-toggleable__control:checked~label.sk-toggleable__label {background-color: #d4ebff;}#sk-container-id-1 input.sk-hidden--visually {border: 0;clip: rect(1px 1px 1px 1px);clip: rect(1px, 1px, 1px, 1px);height: 1px;margin: -1px;overflow: hidden;padding: 0;position: absolute;width: 1px;}#sk-container-id-1 div.sk-estimator {font-family: monospace;background-color: #f0f8ff;border: 1px dotted black;border-radius: 0.25em;box-sizing: border-box;margin-bottom: 0.5em;}#sk-container-id-1 div.sk-estimator:hover {background-color: #d4ebff;}#sk-container-id-1 div.sk-parallel-item::after {content: \"\";width: 100%;border-bottom: 1px solid gray;flex-grow: 1;}#sk-container-id-1 div.sk-label:hover label.sk-toggleable__label {background-color: #d4ebff;}#sk-container-id-1 div.sk-serial::before {content: \"\";position: absolute;border-left: 1px solid gray;box-sizing: border-box;top: 0;bottom: 0;left: 50%;z-index: 0;}#sk-container-id-1 div.sk-serial {display: flex;flex-direction: column;align-items: center;background-color: white;padding-right: 0.2em;padding-left: 0.2em;position: relative;}#sk-container-id-1 div.sk-item {position: relative;z-index: 1;}#sk-container-id-1 div.sk-parallel {display: flex;align-items: stretch;justify-content: center;background-color: white;position: relative;}#sk-container-id-1 div.sk-item::before, #sk-container-id-1 div.sk-parallel-item::before {content: \"\";position: absolute;border-left: 1px solid gray;box-sizing: border-box;top: 0;bottom: 0;left: 50%;z-index: -1;}#sk-container-id-1 div.sk-parallel-item {display: flex;flex-direction: column;z-index: 1;position: relative;background-color: white;}#sk-container-id-1 div.sk-parallel-item:first-child::after {align-self: flex-end;width: 50%;}#sk-container-id-1 div.sk-parallel-item:last-child::after {align-self: flex-start;width: 50%;}#sk-container-id-1 div.sk-parallel-item:only-child::after {width: 0;}#sk-container-id-1 div.sk-dashed-wrapped {border: 1px dashed gray;margin: 0 0.4em 0.5em 0.4em;box-sizing: border-box;padding-bottom: 0.4em;background-color: white;}#sk-container-id-1 div.sk-label label {font-family: monospace;font-weight: bold;display: inline-block;line-height: 1.2em;}#sk-container-id-1 div.sk-label-container {text-align: center;}#sk-container-id-1 div.sk-container {/* jupyter's `normalize.less` sets `[hidden] { display: none; }` but bootstrap.min.css set `[hidden] { display: none !important; }` so we also need the `!important` here to be able to override the default hidden behavior on the sphinx rendered scikit-learn.org. See: https://github.com/scikit-learn/scikit-learn/issues/21755 */display: inline-block !important;position: relative;}#sk-container-id-1 div.sk-text-repr-fallback {display: none;}</style><div id=\"sk-container-id-1\" class=\"sk-top-container\"><div class=\"sk-text-repr-fallback\"><pre>LinearRegression()</pre><b>In a Jupyter environment, please rerun this cell to show the HTML representation or trust the notebook. <br />On GitHub, the HTML representation is unable to render, please try loading this page with nbviewer.org.</b></div><div class=\"sk-container\" hidden><div class=\"sk-item\"><div class=\"sk-estimator sk-toggleable\"><input class=\"sk-toggleable__control sk-hidden--visually\" id=\"sk-estimator-id-1\" type=\"checkbox\" checked><label for=\"sk-estimator-id-1\" class=\"sk-toggleable__label sk-toggleable__label-arrow\">LinearRegression</label><div class=\"sk-toggleable__content\"><pre>LinearRegression()</pre></div></div></div></div></div>"
      ],
      "text/plain": [
       "LinearRegression()"
      ]
     },
     "execution_count": 2,
     "metadata": {},
     "output_type": "execute_result"
    }
   ],
   "source": [
    "from sklearn.linear_model import LinearRegression\n",
    "\n",
    "# Create and train a multivariate linear regression model\n",
    "linear_model = LinearRegression()\n",
    "linear_model.fit(X_train, y_train)\n"
   ]
  },
  {
   "cell_type": "code",
   "execution_count": 4,
   "metadata": {},
   "outputs": [],
   "source": [
    "from sklearn.preprocessing import PolynomialFeatures\n",
    "from sklearn.linear_model import LinearRegression\n",
    "\n",
    "\n"
   ]
  },
  {
   "cell_type": "code",
   "execution_count": 7,
   "metadata": {},
   "outputs": [],
   "source": [
    "poly_features = PolynomialFeatures(degree=2, include_bias=False)\n",
    "\n",
    "x_poly_bmi = poly_features.fit_transform(X_train[['bmi']])\n",
    "\n",
    " \n",
    "\n",
    "poly_model_bmi = LinearRegression()\n",
    "\n",
    "poly_model_bmi.fit(x_poly_bmi, y_train)\n",
    "\n",
    " \n",
    "\n",
    "x_bmi_valid = poly_features.transform(X_valid[['bmi']])\n"
   ]
  },
  {
   "cell_type": "code",
   "execution_count": 8,
   "metadata": {},
   "outputs": [],
   "source": [
    "poly_features = PolynomialFeatures(degree=2, include_bias=False)\n",
    "\n",
    "x_poly_all = poly_features.fit_transform(X_train)\n",
    "\n",
    " \n",
    "\n",
    "poly_model_all = LinearRegression()\n",
    "\n",
    "poly_model_all.fit(x_poly_all, y_train)\n",
    "\n",
    " \n",
    "\n",
    "x_all_valid = poly_features.transform(X_valid)\n"
   ]
  },
  {
   "cell_type": "code",
   "execution_count": 9,
   "metadata": {},
   "outputs": [
    {
     "name": "stdout",
     "output_type": "stream",
     "text": [
      "R-squared (Linear): 0.5810\n",
      "R-squared (Poly BMI): 0.3623\n",
      "R-squared (Poly All): 0.4176\n",
      "MAE (Linear): 38.2213\n",
      "MAE (Poly BMI): 48.9093\n",
      "MAE (Poly All): 47.2770\n",
      "MAPE (Linear): 34.8018%\n",
      "MAPE (Poly BMI): 44.2695%\n",
      "MAPE (Poly All): 44.3607%\n"
     ]
    }
   ],
   "source": [
    "from sklearn.metrics import r2_score, mean_absolute_error\n",
    "import numpy as np\n",
    "\n",
    "# Define a function to calculate MAPE\n",
    "def calculate_mape(y_true, y_pred):\n",
    "    return np.mean(np.abs((y_true - y_pred) / y_true)) * 100\n",
    "\n",
    "# Predictions on the validation set\n",
    "y_valid_pred_linear = linear_model.predict(X_valid)\n",
    "y_valid_pred_poly_bmi = poly_model_bmi.predict(x_bmi_valid)\n",
    "y_valid_pred_poly_all = poly_model_all.predict(x_all_valid)\n",
    "\n",
    "# Calculate R-squared for each model\n",
    "r2_linear = r2_score(y_valid, y_valid_pred_linear)\n",
    "r2_poly_bmi = r2_score(y_valid, y_valid_pred_poly_bmi)\n",
    "r2_poly_all = r2_score(y_valid, y_valid_pred_poly_all)\n",
    "\n",
    "# Calculate MAE for each model\n",
    "mae_linear = mean_absolute_error(y_valid, y_valid_pred_linear)\n",
    "mae_poly_bmi = mean_absolute_error(y_valid, y_valid_pred_poly_bmi)\n",
    "mae_poly_all = mean_absolute_error(y_valid, y_valid_pred_poly_all)\n",
    "\n",
    "# Calculate MAPE for each model\n",
    "mape_linear = calculate_mape(y_valid, y_valid_pred_linear)\n",
    "mape_poly_bmi = calculate_mape(y_valid, y_valid_pred_poly_bmi)\n",
    "mape_poly_all = calculate_mape(y_valid, y_valid_pred_poly_all)\n",
    "\n",
    "# Print the evaluation metrics\n",
    "print(f\"R-squared (Linear): {r2_linear:.4f}\")\n",
    "print(f\"R-squared (Poly BMI): {r2_poly_bmi:.4f}\")\n",
    "print(f\"R-squared (Poly All): {r2_poly_all:.4f}\")\n",
    "print(f\"MAE (Linear): {mae_linear:.4f}\")\n",
    "print(f\"MAE (Poly BMI): {mae_poly_bmi:.4f}\")\n",
    "print(f\"MAE (Poly All): {mae_poly_all:.4f}\")\n",
    "print(f\"MAPE (Linear): {mape_linear:.4f}%\")\n",
    "print(f\"MAPE (Poly BMI): {mape_poly_bmi:.4f}%\")\n",
    "print(f\"MAPE (Poly All): {mape_poly_all:.4f}%\")\n"
   ]
  }
 ],
 "metadata": {
  "kernelspec": {
   "display_name": "cscn8010",
   "language": "python",
   "name": "python3"
  },
  "language_info": {
   "codemirror_mode": {
    "name": "ipython",
    "version": 3
   },
   "file_extension": ".py",
   "mimetype": "text/x-python",
   "name": "python",
   "nbconvert_exporter": "python",
   "pygments_lexer": "ipython3",
   "version": "3.11.5"
  }
 },
 "nbformat": 4,
 "nbformat_minor": 2
}
